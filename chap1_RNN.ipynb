{
  "nbformat": 4,
  "nbformat_minor": 0,
  "metadata": {
    "colab": {
      "provenance": [],
      "authorship_tag": "ABX9TyMd7qSX0mEsa5HYndyEemK6",
      "include_colab_link": true
    },
    "kernelspec": {
      "name": "python3",
      "display_name": "Python 3"
    },
    "language_info": {
      "name": "python"
    }
  },
  "cells": [
    {
      "cell_type": "markdown",
      "metadata": {
        "id": "view-in-github",
        "colab_type": "text"
      },
      "source": [
        "<a href=\"https://colab.research.google.com/github/suri-pu-bi/LLM-Study/blob/main/%08chap1_RNN.ipynb\" target=\"_parent\"><img src=\"https://colab.research.google.com/assets/colab-badge.svg\" alt=\"Open In Colab\"/></a>"
      ]
    },
    {
      "cell_type": "code",
      "execution_count": 1,
      "metadata": {
        "id": "Yyi4arDdYP_B"
      },
      "outputs": [],
      "source": [
        "import torch\n",
        "import torch.nn as nn\n",
        "import torch.optim as optim"
      ]
    },
    {
      "cell_type": "markdown",
      "source": [
        "* **5일 동안의 날씨 데이터를 보고, 다음 날의 기온을 예측하는 RNN**\n",
        "* 각 시점에서 이전 시점의 은닉 상태를 사용하여 다음 시점의 출력을 계산\n",
        "* 입력 데이터 : 각 샘플은 5일동안의 날씨 데이터, 10개의 특성(온도, 습도, 풍속 등)\n",
        "* 출력 데이터 : 다음 날의 기온 - 전체 데이터를 바탕으로 예측한 값\n",
        "* hidden_size : 은닉 상태의 차원 = 은닉 상태가 얼마나 많은 정보를 저장할 수 있는지\n",
        "\n"
      ],
      "metadata": {
        "id": "XE2T0POQf37o"
      }
    },
    {
      "cell_type": "code",
      "source": [
        "class SimpleRNN(nn.Module):\n",
        "    def __init__(self, input_size, hidden_size, output_size):\n",
        "        super(SimpleRNN, self).__init__()\n",
        "        self.hidden_size = hidden_size\n",
        "        self.rnn = nn.RNN(input_size, hidden_size)\n",
        "        self.fc = nn.Linear(hidden_size, output_size)\n",
        "\n",
        "    def forward(self, x):\n",
        "        # 초기 은닉 상태 설정\n",
        "        # RNN의 층 수, 시간단계의 수, 각 시간단계에 대한 은닉 상태 크기\n",
        "        h0 = torch.zeros(1, x.size(1), self.hidden_size)\n",
        "\n",
        "        # RNN에 x와 초기 은닉 상태 전달\n",
        "        out, _ = self.rnn(x, h0)\n",
        "\n",
        "        # 마지막 단계의 출력을 분류기에 전달\n",
        "        out = self.fc(out[:, -1, :])\n",
        "        return out"
      ],
      "metadata": {
        "id": "AGSegqX8cyWD"
      },
      "execution_count": 2,
      "outputs": []
    },
    {
      "cell_type": "code",
      "source": [
        "# 입력 및 출력 사이즈 정의\n",
        "input_size = 10 # 각 시간단계에서 입력되는 특성의 수\n",
        "hidden_size = 20\n",
        "output_size = 1\n",
        "\n",
        "# 임의의 훈련 데이터 생성\n",
        "# 100개의 샘플, 각 샘플은 5단계의 시계열 데이터를 가짐, 각 시간 단계마다 10개의 특성을 가짐\n",
        "x_train = torch.randn(100, 5, input_size)\n",
        "y_train = torch.randn(100, 1)\n",
        "\n",
        "# 테스트 데이터\n",
        "x_test = torch.randn(20, 5, input_size)\n",
        "y_test = torch.randn(20, 1)"
      ],
      "metadata": {
        "id": "GUxYhQoxgN3V"
      },
      "execution_count": 3,
      "outputs": []
    },
    {
      "cell_type": "code",
      "source": [
        "# 모델 초기화\n",
        "model = SimpleRNN(input_size, hidden_size, output_size)\n",
        "\n",
        "criterion = nn.MSELoss()\n",
        "# 옵티마이저: 계산된 기울기를 기반으로 매개변수를 업데이트\n",
        "optimizer = optim.Adam(model.parameters(), lr=0.01)"
      ],
      "metadata": {
        "id": "tmAGJekhiSmd"
      },
      "execution_count": 4,
      "outputs": []
    },
    {
      "cell_type": "code",
      "source": [
        "x_train[0]"
      ],
      "metadata": {
        "colab": {
          "base_uri": "https://localhost:8080/"
        },
        "id": "6q9Z5AVOupAH",
        "outputId": "c7f35bff-c672-41ce-a63b-c00abeb202d9"
      },
      "execution_count": 5,
      "outputs": [
        {
          "output_type": "execute_result",
          "data": {
            "text/plain": [
              "tensor([[-5.4039e-01, -8.9587e-01,  7.1640e-01,  1.6035e-01,  8.7199e-02,\n",
              "          2.7400e-01, -1.9559e-01, -8.1648e-01, -5.0449e-01,  6.9159e-01],\n",
              "        [-2.7241e-01,  5.3045e-01,  4.6342e-02, -2.9757e-01,  1.4681e+00,\n",
              "         -4.5258e-01, -1.8807e+00, -2.2232e-01, -1.3155e+00, -7.5496e-01],\n",
              "        [-2.4267e-01, -2.4859e-01,  5.9883e-01, -1.0414e+00,  5.5553e-01,\n",
              "          5.0237e-01,  1.6144e+00,  1.7261e+00,  8.1371e-01, -9.7624e-02],\n",
              "        [-2.6406e-01,  2.9176e-01, -5.7686e-01, -7.3417e-02,  4.5261e-01,\n",
              "          3.6611e-02,  1.1064e+00, -1.9697e+00, -2.5203e-01, -6.7232e-01],\n",
              "        [-6.4719e-01,  6.8748e-01, -1.8605e+00, -4.5622e-04, -1.8284e-01,\n",
              "          7.0304e-01,  4.9998e-01, -8.6345e-01, -1.9611e+00,  5.4862e-01]])"
            ]
          },
          "metadata": {},
          "execution_count": 5
        }
      ]
    },
    {
      "cell_type": "code",
      "source": [
        "x_train[0].unsqueeze(0).shape"
      ],
      "metadata": {
        "colab": {
          "base_uri": "https://localhost:8080/"
        },
        "id": "js6g6yRU3GOZ",
        "outputId": "edfb504b-26e6-41dc-fe39-53424604cf35"
      },
      "execution_count": 6,
      "outputs": [
        {
          "output_type": "execute_result",
          "data": {
            "text/plain": [
              "torch.Size([1, 5, 10])"
            ]
          },
          "metadata": {},
          "execution_count": 6
        }
      ]
    },
    {
      "cell_type": "code",
      "source": [
        "y_train[0]"
      ],
      "metadata": {
        "colab": {
          "base_uri": "https://localhost:8080/"
        },
        "id": "AdhkbvMV5OOs",
        "outputId": "d74f206c-f687-49b0-f73c-e11306a25b75"
      },
      "execution_count": 7,
      "outputs": [
        {
          "output_type": "execute_result",
          "data": {
            "text/plain": [
              "tensor([-1.3882])"
            ]
          },
          "metadata": {},
          "execution_count": 7
        }
      ]
    },
    {
      "cell_type": "code",
      "source": [
        "# 랜덤한 라벨을 사용했으므로 loss값 큼 ..!\n",
        "epochs = 10\n",
        "\n",
        "for epoch in range(epochs):\n",
        "    for i in range(len(x_train)):\n",
        "        # 현재 배치 데이터\n",
        "        inputs = x_train[i].unsqueeze(0) # 배치 차원 추가\n",
        "        labels = y_train[i].unsqueeze(0)\n",
        "\n",
        "        # forward\n",
        "        outputs = model(inputs)\n",
        "        loss = criterion(outputs, labels)\n",
        "\n",
        "        # Backward and optimize\n",
        "        optimizer.zero_grad()\n",
        "        loss.backward()\n",
        "        optimizer.step()\n",
        "\n",
        "    print(f'Epoch [{epoch+1}/{epochs}], Loss: {loss.item():.4f}')"
      ],
      "metadata": {
        "colab": {
          "base_uri": "https://localhost:8080/"
        },
        "id": "GE2uGAyxn27H",
        "outputId": "39f215df-90b2-40c4-f6ce-2e83acb06c06"
      },
      "execution_count": 8,
      "outputs": [
        {
          "output_type": "stream",
          "name": "stdout",
          "text": [
            "Epoch [1/10], Loss: 0.0112\n",
            "Epoch [2/10], Loss: 0.0108\n",
            "Epoch [3/10], Loss: 0.0114\n",
            "Epoch [4/10], Loss: 0.0128\n",
            "Epoch [5/10], Loss: 0.0068\n",
            "Epoch [6/10], Loss: 0.0054\n",
            "Epoch [7/10], Loss: 0.0089\n",
            "Epoch [8/10], Loss: 0.0075\n",
            "Epoch [9/10], Loss: 0.0076\n",
            "Epoch [10/10], Loss: 0.0086\n"
          ]
        }
      ]
    },
    {
      "cell_type": "code",
      "source": [
        "# 모델을 평가 모드로 설정\n",
        "model.eval()\n",
        "\n",
        "test_loss = 0\n",
        "with torch.no_grad():\n",
        "    for i in range(len(x_test)):\n",
        "        inputs = x_test[i].unsqueeze(0)\n",
        "        labels = y_test[i].unsqueeze(0)\n",
        "\n",
        "        outputs = model(inputs)\n",
        "        loss = criterion(outputs, labels)\n",
        "        test_loss += loss.item()\n",
        "\n",
        "    print(f'Test Loss: {test_loss / len(x_test):.4f}')"
      ],
      "metadata": {
        "colab": {
          "base_uri": "https://localhost:8080/"
        },
        "id": "6dy20WLZn2kW",
        "outputId": "b64d4bba-f2fa-4ebc-ed0e-13a0ffc5bee1"
      },
      "execution_count": 9,
      "outputs": [
        {
          "output_type": "stream",
          "name": "stdout",
          "text": [
            "Test Loss: 1.2962\n"
          ]
        }
      ]
    }
  ]
}