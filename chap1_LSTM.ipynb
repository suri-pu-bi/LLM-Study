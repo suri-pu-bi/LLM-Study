{
  "nbformat": 4,
  "nbformat_minor": 0,
  "metadata": {
    "colab": {
      "provenance": [],
      "authorship_tag": "ABX9TyPca5g8+6YjhGlZDEOd4l7J",
      "include_colab_link": true
    },
    "kernelspec": {
      "name": "python3",
      "display_name": "Python 3"
    },
    "language_info": {
      "name": "python"
    }
  },
  "cells": [
    {
      "cell_type": "markdown",
      "metadata": {
        "id": "view-in-github",
        "colab_type": "text"
      },
      "source": [
        "<a href=\"https://colab.research.google.com/github/suri-pu-bi/LLM-Study/blob/main/chap1_LSTM.ipynb\" target=\"_parent\"><img src=\"https://colab.research.google.com/assets/colab-badge.svg\" alt=\"Open In Colab\"/></a>"
      ]
    },
    {
      "cell_type": "code",
      "execution_count": 17,
      "metadata": {
        "id": "ZwqIpmM5_JUt"
      },
      "outputs": [],
      "source": [
        "import torch\n",
        "import torch.nn as nn\n",
        "import torch.optim as optim"
      ]
    },
    {
      "cell_type": "code",
      "source": [
        "class SimpleLSTM(nn.Module):\n",
        "    def __init__(self, input_size, hidden_size, output_size):\n",
        "        super(SimpleLSTM, self).__init__()\n",
        "        self.hidden_size = hidden_size\n",
        "\n",
        "        self.lstm = nn.LSTM(input_size, hidden_size) # LSTM 레이어\n",
        "        self.fc = nn.Linear(hidden_size, output_size) # 출력 레이어\n",
        "\n",
        "    def forward(self, x):\n",
        "        # 초기 은닉 상태 설정 : 기존 메모리\n",
        "        h0 = torch.zeros(1, x.size(1), self.hidden_size)\n",
        "        # 초기 셀 상태 설정 : 장기 데이터 보관하는 부분\n",
        "        c0 = torch.zeros(1, x.size(1), self.hidden_size)\n",
        "\n",
        "        out, _ = self.lstm(x, (h0, c0))\n",
        "        out = self.fc(out[:, -1, :]) # 시퀸스의 마지막 출력을 사용\n",
        "        return out"
      ],
      "metadata": {
        "id": "9wuaUnCZ_Tl3"
      },
      "execution_count": 18,
      "outputs": []
    },
    {
      "cell_type": "code",
      "source": [
        "input_size = 10\n",
        "hidden_size = 20\n",
        "output_size = 1\n",
        "\n",
        "# 임의의 훈련 데이터 생성\n",
        "x_train = torch.randn(100, 5, input_size) # 100개의 샘플, 각 샘플은 5시간 단계, 각 시간 단계마다 10개의 특성을 가짐\n",
        "y_train = torch.randn(100, 1) # 각 샘플에 대한 임의의 출력값\n",
        "\n",
        "# 임의의 테스트 데이터 생성\n",
        "x_test = torch.randn(20, 5, input_size) # 20개 샘플로 구성된 테스트 데이터\n",
        "y_test = torch.randn(20, 1) # 테스트 레이블"
      ],
      "metadata": {
        "id": "wUG9PXeZAvB_"
      },
      "execution_count": 19,
      "outputs": []
    },
    {
      "cell_type": "code",
      "source": [
        "model = SimpleLSTM(input_size, hidden_size, output_size)\n",
        "\n",
        "criterion = nn.MSELoss()\n",
        "optimizer = optim.Adam(model.parameters(), lr=0.01)"
      ],
      "metadata": {
        "id": "1_3xMNSsBWQ5"
      },
      "execution_count": 20,
      "outputs": []
    },
    {
      "cell_type": "code",
      "source": [
        "epochs = 10 # 훈련 에폭 수\n",
        "\n",
        "for epoch in range(epochs):\n",
        "    model.train()\n",
        "    for i in range(len(x_train)):\n",
        "        inputs = x_train[i].unsqueeze(0)\n",
        "        labels = y_train[i]\n",
        "\n",
        "        outputs = model(inputs)\n",
        "        loss = criterion(outputs, labels)\n",
        "\n",
        "        optimizer.zero_grad()\n",
        "        loss.backward()\n",
        "        optimizer.step()\n",
        "\n",
        "    print(f'Epoch [{epoch+1}/{epochs}], Loss: {loss.item():.4f}')"
      ],
      "metadata": {
        "colab": {
          "base_uri": "https://localhost:8080/"
        },
        "id": "7BRZdrGUBehS",
        "outputId": "b5bd1556-1b85-477a-fe2b-2d4558209a87"
      },
      "execution_count": 21,
      "outputs": [
        {
          "output_type": "stream",
          "name": "stdout",
          "text": [
            "Epoch [1/10], Loss: 0.2543\n",
            "Epoch [2/10], Loss: 0.2979\n",
            "Epoch [3/10], Loss: 0.3366\n",
            "Epoch [4/10], Loss: 0.3220\n",
            "Epoch [5/10], Loss: 0.2308\n",
            "Epoch [6/10], Loss: 0.1316\n",
            "Epoch [7/10], Loss: 0.0453\n",
            "Epoch [8/10], Loss: 0.0082\n",
            "Epoch [9/10], Loss: 0.0000\n",
            "Epoch [10/10], Loss: 0.0011\n"
          ]
        }
      ]
    },
    {
      "cell_type": "code",
      "source": [
        "model.eval() # 평가 모드\n",
        "with torch.no_grad(): # 기울기 계산 비활성화\n",
        "    correct = 0\n",
        "    total = 0\n",
        "    for i in range(len(x_test)):\n",
        "        inputs = x_test[i].unsqueeze(0)\n",
        "        labels = y_test[i]\n",
        "        outputs = model(inputs)\n",
        "        loss = criterion(outputs, labels)\n",
        "        print(f'Test Sample: {i+1}, Loss: {loss.item():.4f}')"
      ],
      "metadata": {
        "colab": {
          "base_uri": "https://localhost:8080/"
        },
        "id": "6pKl_EWPC_uv",
        "outputId": "ea3e1015-00fb-4cb2-c218-26076e8efd09"
      },
      "execution_count": 22,
      "outputs": [
        {
          "output_type": "stream",
          "name": "stdout",
          "text": [
            "Test Sample: 1, Loss: 0.0226\n",
            "Test Sample: 2, Loss: 1.8545\n",
            "Test Sample: 3, Loss: 2.1487\n",
            "Test Sample: 4, Loss: 0.4512\n",
            "Test Sample: 5, Loss: 4.5266\n",
            "Test Sample: 6, Loss: 7.3291\n",
            "Test Sample: 7, Loss: 0.0576\n",
            "Test Sample: 8, Loss: 1.7237\n",
            "Test Sample: 9, Loss: 0.5690\n",
            "Test Sample: 10, Loss: 0.4875\n",
            "Test Sample: 11, Loss: 3.2030\n",
            "Test Sample: 12, Loss: 0.0306\n",
            "Test Sample: 13, Loss: 0.1816\n",
            "Test Sample: 14, Loss: 0.0101\n",
            "Test Sample: 15, Loss: 0.3204\n",
            "Test Sample: 16, Loss: 2.6921\n",
            "Test Sample: 17, Loss: 0.8318\n",
            "Test Sample: 18, Loss: 1.3395\n",
            "Test Sample: 19, Loss: 1.7915\n",
            "Test Sample: 20, Loss: 0.8418\n"
          ]
        }
      ]
    }
  ]
}