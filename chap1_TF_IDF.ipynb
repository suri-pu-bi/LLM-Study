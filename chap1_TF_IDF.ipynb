{
  "nbformat": 4,
  "nbformat_minor": 0,
  "metadata": {
    "colab": {
      "provenance": [],
      "authorship_tag": "ABX9TyMXHdGHHBjbk4SKvOTIWFF6",
      "include_colab_link": true
    },
    "kernelspec": {
      "name": "python3",
      "display_name": "Python 3"
    },
    "language_info": {
      "name": "python"
    }
  },
  "cells": [
    {
      "cell_type": "markdown",
      "metadata": {
        "id": "view-in-github",
        "colab_type": "text"
      },
      "source": [
        "<a href=\"https://colab.research.google.com/github/suri-pu-bi/LLM-Study/blob/main/chap1_TF_IDF.ipynb\" target=\"_parent\"><img src=\"https://colab.research.google.com/assets/colab-badge.svg\" alt=\"Open In Colab\"/></a>"
      ]
    },
    {
      "cell_type": "markdown",
      "source": [
        "1-1. scratch로 TF-IDF 구현"
      ],
      "metadata": {
        "id": "RWUqjqt2-HT9"
      }
    },
    {
      "cell_type": "code",
      "source": [
        "import nltk\n",
        "nltk.download('punkt_tab')\n",
        "nltk.download('stopwords')"
      ],
      "metadata": {
        "colab": {
          "base_uri": "https://localhost:8080/"
        },
        "id": "UVOUCh4HqASR",
        "outputId": "48902993-4ce8-4c9e-d724-a7d73998a4fd"
      },
      "execution_count": 34,
      "outputs": [
        {
          "output_type": "stream",
          "name": "stderr",
          "text": [
            "[nltk_data] Downloading package punkt_tab to /root/nltk_data...\n",
            "[nltk_data]   Package punkt_tab is already up-to-date!\n",
            "[nltk_data] Downloading package stopwords to /root/nltk_data...\n",
            "[nltk_data]   Package stopwords is already up-to-date!\n"
          ]
        },
        {
          "output_type": "execute_result",
          "data": {
            "text/plain": [
              "True"
            ]
          },
          "metadata": {},
          "execution_count": 34
        }
      ]
    },
    {
      "cell_type": "code",
      "execution_count": 35,
      "metadata": {
        "colab": {
          "base_uri": "https://localhost:8080/"
        },
        "id": "ATlff5HmkyUZ",
        "outputId": "a747c29b-ee99-4546-f8f0-6b85cb64d09a"
      },
      "outputs": [
        {
          "output_type": "execute_result",
          "data": {
            "text/plain": [
              "[\"I know one thing for certain: don't settle for less than what you're capable of, but strive for something bigger.\",\n",
              " 'Some of you reading this might identify with this message because it resonates with you on a deeper level.',\n",
              " 'For others, at the end of their tether the message might be nothing more than a trivial pep talk.',\n",
              " 'What I wish to convey irrespective of where you are in your journey is: NEVER settle for less.',\n",
              " 'If you settle for less, you will receive less than you deserve and convince yourself you are justified to receive it.',\n",
              " 'If you have not achieved the success you deserve and are considering giving up, will you regret it in a few years or decades from now?',\n",
              " 'Only you can answer that, but you should carve out time to discover your motivation for pursuing your goals.',\n",
              " 'It’s a fact, if you don’t know what you want you’ll get what life hands you and it may not be in your best interest, affirms author Larry Weidel: “Winners know that if you don’t figure out what you want, you’ll get whatever life hands you.” The key is to develop a powerful vision of what you want and hold that image in your mind.',\n",
              " 'Nurture it daily and give it life by taking purposeful action towards it.']"
            ]
          },
          "metadata": {},
          "execution_count": 35
        }
      ],
      "source": [
        "import math\n",
        "from nltk import sent_tokenize, word_tokenize, PorterStemmer\n",
        "from nltk.corpus import stopwords\n",
        "\n",
        "text=\"I know one thing for certain: don't settle for less than what you're capable of, but strive for something bigger. Some of you reading this might identify with this message because it resonates with you on a deeper level. For others, at the end of their tether the message might be nothing more than a trivial pep talk. What I wish to convey irrespective of where you are in your journey is: NEVER settle for less. If you settle for less, you will receive less than you deserve and convince yourself you are justified to receive it. If you have not achieved the success you deserve and are considering giving up, will you regret it in a few years or decades from now? Only you can answer that, but you should carve out time to discover your motivation for pursuing your goals. It’s a fact, if you don’t know what you want you’ll get what life hands you and it may not be in your best interest, affirms author Larry Weidel: “Winners know that if you don’t figure out what you want, you’ll get whatever life hands you.” The key is to develop a powerful vision of what you want and hold that image in your mind. Nurture it daily and give it life by taking purposeful action towards it.\"\n",
        "sentences = sent_tokenize(text) # NLTK 함수\n",
        "total_documents = len(sentences)\n",
        "\n",
        "sentences"
      ]
    },
    {
      "cell_type": "markdown",
      "source": [
        "### 각 함수의 간단한 설명 및 출력 예시\n",
        "* _create_frequency_matrix(sentences)\n",
        "  * 각 문장의 단어의 빈도수를 계산\n",
        "  * tf를 구하기 위한 과정\n",
        "\n",
        "  * 출력 에시\n",
        "\n",
        "    ```python\n",
        "    freq_matrix = {\n",
        "        'sentence1': {'word1': 2, 'word2': 1},\n",
        "        'sentence2': {'word1': 1, 'word3': 3}\n",
        "    }\n",
        "    ```\n",
        "\n",
        "* _create_tf_matrix(freq_matrix)\n",
        "\n",
        "  ![스크린샷 2024-12-10 오후 10.55.17.png](data:image/png;base64,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)\n",
        "  * tf 계산\n",
        "  * tf(d,t) : 특정 문서 d에서의 특정 단어 t의 등장 횟수\n",
        "  * 출력 예시\n",
        "  ```python\n",
        "    tf_matrix = {\n",
        "      'sentence1': {'word1': 2/3, 'word2': 1/3},\n",
        "      'sentence2': {'word1': 1/4, 'word3': 3/4}\n",
        "  }\n",
        "  ```\n",
        "* _create_documents_per_words(freq_matrix)\n",
        "  * 각 단어가 얼마나 많은 문서에 등장했는지 파악\n",
        "  * idf를 구하기 위한 과정\n",
        "  * 출력 예시\n",
        "    ```python\n",
        "    word_per_doc_table = {\n",
        "        'word1': 2,  \n",
        "        'word2': 1,  \n",
        "        'word3': 1   \n",
        "    }\n",
        "    ```\n",
        "\n",
        "* _create_idf_matrix(freq_matrix, word_per_doc_table, total_documents)\n",
        "![스크린샷 2024-12-10 오후 10.57.13.png](data:image/png;base64,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)\n",
        "  * idf 계산\n",
        "\n",
        "  * word1은 모든 문장에서 등장했기 때문에 idf 값이 0이 됨 (중요도 낮음)\n",
        "  * word2, 3은 특정 문장에만 등장했기 때문에 idf 값이 0.301이 됨 (중요도가 상대적으로 높음)\n",
        "  * 출력 예시\n",
        "    ```python\n",
        "    idf_matrix = {\n",
        "        'sentence1': {'word1': 0.0, 'word2': 0.301},\n",
        "        'sentence2': {'word1': 0.0, 'word3': 0.301}\n",
        "}\n",
        "    ```\n",
        "\n",
        "* _create_tf_idf_matrix(tf_matrix, idf_matrix)\n",
        "\n",
        "  ![스크린샷 2024-12-10 오후 10.57.26.png](data:image/png;base64,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)\n",
        "  * tf - idf 계산\n",
        "\n",
        "\n",
        "* _score_sentences(tf_idf_matrix)\n",
        "  * 문장의 중요도 평가\n",
        "  * 문장별로 tf - idf 값 합 / 총 단어의 수 계산\n",
        "  * 출력 예시\n",
        "\n"
      ],
      "metadata": {
        "id": "kFGxpKwauc5r"
      }
    },
    {
      "cell_type": "code",
      "source": [
        "def _create_frequency_matrix(sentences):\n",
        "  frequency_matrix = {}\n",
        "  # NLTK에서 제공하는 영어 불용어 리스트를 세트로 가져옴\n",
        "  stopWords = set(stopwords.words(\"english\"))\n",
        "  ps = PorterStemmer() # 단어의 어간 추출하는 함수 ex_ running -> run\n",
        "\n",
        "  for sent in sentences:\n",
        "    freq_table = {}\n",
        "    words = word_tokenize(sent) # 문장을 단어 리스트로 분리\n",
        "    for word in words:\n",
        "      word = word.lower() # 모든 단어를 소문자로 변환\n",
        "      word = ps.stem(word) # 단어의 어간 추출 ex_ run, running, runs를 동일하게 처리\n",
        "      if word in stopWords: # 불용어는 무시하고 다음 단어로 이동\n",
        "        continue\n",
        "      if word in freq_table: # 단어가 이미 freq_table에 존재하면 값에 1을 더함\n",
        "        freq_table[word] += 1\n",
        "      else: # 처음 등장한 단어라면 값을 1로 설정\n",
        "        freq_table[word] = 1\n",
        "\n",
        "    # 문장의 첫 15자를 키로 사용하여 저장\n",
        "    frequency_matrix[sent[:15]] = freq_table\n",
        "\n",
        "  return frequency_matrix"
      ],
      "metadata": {
        "id": "MBtkEC2eqm8f"
      },
      "execution_count": 36,
      "outputs": []
    },
    {
      "cell_type": "code",
      "source": [
        "def _create_tf_matrix(freq_matrix):\n",
        "  tf_matrix = {}\n",
        "\n",
        "  for sent, f_table in freq_matrix.items():\n",
        "    tf_table = {}\n",
        "\n",
        "    count_words_in_sentence = len(f_table)\n",
        "    for word, count in f_table.items():\n",
        "      # 각 단어의 빈도를 해당 문장 내 단어 개수로 나누어 TF 값 계산\n",
        "      tf_table[word] = count / count_words_in_sentence\n",
        "\n",
        "    tf_matrix[sent] = tf_table\n",
        "\n",
        "  return tf_matrix"
      ],
      "metadata": {
        "id": "Uc88xwyDv8bE"
      },
      "execution_count": 44,
      "outputs": []
    },
    {
      "cell_type": "code",
      "source": [
        "def _create_documents_per_words(freq_matrix):\n",
        "  word_per_doc_table = {}\n",
        "\n",
        "  for sent, f_table in freq_matrix.items():\n",
        "    for word, count in f_table.items():\n",
        "      if word in word_per_doc_table:\n",
        "        word_per_doc_table[word] += 1\n",
        "      else:\n",
        "        word_per_doc_table[word] = 1\n",
        "\n",
        "  return word_per_doc_table"
      ],
      "metadata": {
        "id": "We6BS8TDxEOq"
      },
      "execution_count": 38,
      "outputs": []
    },
    {
      "cell_type": "code",
      "source": [
        "def _create_idf_matrix(freq_matrix, word_per_doc_table, total_documents):\n",
        "  idf_matrix = {}\n",
        "\n",
        "  for sent, f_table in freq_matrix.items():\n",
        "    idf_table = {}\n",
        "\n",
        "    for word in f_table.keys():\n",
        "      # 이 코드에서는 단어가 최소 하나의 문장에 등장하기 때문에 분모에 1을 더할 필요가 없음\n",
        "      idf_table[word] = math.log10(total_documents / float(word_per_doc_table[word]))\n",
        "\n",
        "    idf_matrix[sent] = idf_table\n",
        "\n",
        "  return idf_matrix"
      ],
      "metadata": {
        "id": "DUuCqbUezmmG"
      },
      "execution_count": 39,
      "outputs": []
    },
    {
      "cell_type": "code",
      "source": [
        "def _create_tf_idf_matrix(tf_matrix, idf_matrix):\n",
        "  tf_idf_matrix = {}\n",
        "\n",
        "  for (sent1, f_table1), (sent2, f_table2) in zip(tf_matrix.items(), idf_matrix.items()):\n",
        "    tf_idf_table = {}\n",
        "\n",
        "    for (word1, value1), (word2, value2) in zip(f_table1.items(), f_table2.items()):\n",
        "      tf_idf_table[word1] = float(value1 * value2)\n",
        "\n",
        "    tf_idf_matrix[sent1] = tf_idf_table\n",
        "\n",
        "  return tf_idf_matrix"
      ],
      "metadata": {
        "id": "Pm7bwT9j3VkK"
      },
      "execution_count": 40,
      "outputs": []
    },
    {
      "cell_type": "code",
      "source": [
        "# type hint : 함수의 반환값 타입을 나태는 힌트 : ->\n",
        "def _score_sentences(tf_idf_matrix) -> dict:\n",
        "  sentenceValue = {}\n",
        "\n",
        "  for sent, f_table in tf_idf_matrix.items():\n",
        "    total_score_per_sentence = 0\n",
        "\n",
        "    count_words_in_sentence = len(f_table)\n",
        "    for word, score in f_table.items():\n",
        "      total_score_per_sentence += score\n",
        "\n",
        "    sentenceValue[sent] = total_score_per_sentence / count_words_in_sentence\n",
        "\n",
        "  return sentenceValue"
      ],
      "metadata": {
        "id": "OwBcVVdx5aci"
      },
      "execution_count": 41,
      "outputs": []
    },
    {
      "cell_type": "code",
      "source": [
        "# 각 문장에 있는 단어의 빈도 행렬 생성\n",
        "freq_matrix = _create_frequency_matrix(sentences)\n",
        "freq_matrix"
      ],
      "metadata": {
        "colab": {
          "base_uri": "https://localhost:8080/"
        },
        "id": "fUrijncD6lNJ",
        "outputId": "06254b51-d3d7-4f9a-8152-e533b36c48c2"
      },
      "execution_count": 42,
      "outputs": [
        {
          "output_type": "execute_result",
          "data": {
            "text/plain": [
              "{'I know one thin': {'know': 1,\n",
              "  'one': 1,\n",
              "  'thing': 1,\n",
              "  'certain': 1,\n",
              "  ':': 1,\n",
              "  \"n't\": 1,\n",
              "  'settl': 1,\n",
              "  'less': 1,\n",
              "  \"'re\": 1,\n",
              "  'capabl': 1,\n",
              "  ',': 1,\n",
              "  'strive': 1,\n",
              "  'someth': 1,\n",
              "  'bigger': 1,\n",
              "  '.': 1},\n",
              " 'Some of you rea': {'read': 1,\n",
              "  'thi': 2,\n",
              "  'might': 1,\n",
              "  'identifi': 1,\n",
              "  'messag': 1,\n",
              "  'becaus': 1,\n",
              "  'reson': 1,\n",
              "  'deeper': 1,\n",
              "  'level': 1,\n",
              "  '.': 1},\n",
              " 'For others, at ': {',': 1,\n",
              "  'end': 1,\n",
              "  'tether': 1,\n",
              "  'messag': 1,\n",
              "  'might': 1,\n",
              "  'noth': 1,\n",
              "  'trivial': 1,\n",
              "  'pep': 1,\n",
              "  'talk': 1,\n",
              "  '.': 1},\n",
              " 'What I wish to ': {'wish': 1,\n",
              "  'convey': 1,\n",
              "  'irrespect': 1,\n",
              "  'journey': 1,\n",
              "  ':': 1,\n",
              "  'never': 1,\n",
              "  'settl': 1,\n",
              "  'less': 1,\n",
              "  '.': 1},\n",
              " 'If you settle f': {'settl': 1,\n",
              "  'less': 2,\n",
              "  ',': 1,\n",
              "  'receiv': 2,\n",
              "  'deserv': 1,\n",
              "  'convinc': 1,\n",
              "  'justifi': 1,\n",
              "  '.': 1},\n",
              " 'If you have not': {'achiev': 1,\n",
              "  'success': 1,\n",
              "  'deserv': 1,\n",
              "  'consid': 1,\n",
              "  'give': 1,\n",
              "  ',': 1,\n",
              "  'regret': 1,\n",
              "  'year': 1,\n",
              "  'decad': 1,\n",
              "  '?': 1},\n",
              " 'Only you can an': {'onli': 1,\n",
              "  'answer': 1,\n",
              "  ',': 1,\n",
              "  'carv': 1,\n",
              "  'time': 1,\n",
              "  'discov': 1,\n",
              "  'motiv': 1,\n",
              "  'pursu': 1,\n",
              "  'goal': 1,\n",
              "  '.': 1},\n",
              " 'It’s a fact, if': {'’': 5,\n",
              "  'fact': 1,\n",
              "  ',': 3,\n",
              "  'know': 2,\n",
              "  'want': 3,\n",
              "  'get': 2,\n",
              "  'life': 2,\n",
              "  'hand': 2,\n",
              "  'may': 1,\n",
              "  'best': 1,\n",
              "  'interest': 1,\n",
              "  'affirm': 1,\n",
              "  'author': 1,\n",
              "  'larri': 1,\n",
              "  'weidel': 1,\n",
              "  ':': 1,\n",
              "  '“': 1,\n",
              "  'winner': 1,\n",
              "  'figur': 1,\n",
              "  'whatev': 1,\n",
              "  'you.': 1,\n",
              "  '”': 1,\n",
              "  'key': 1,\n",
              "  'develop': 1,\n",
              "  'power': 1,\n",
              "  'vision': 1,\n",
              "  'hold': 1,\n",
              "  'imag': 1,\n",
              "  'mind': 1,\n",
              "  '.': 1},\n",
              " 'Nurture it dail': {'nurtur': 1,\n",
              "  'daili': 1,\n",
              "  'give': 1,\n",
              "  'life': 1,\n",
              "  'take': 1,\n",
              "  'purpos': 1,\n",
              "  'action': 1,\n",
              "  'toward': 1,\n",
              "  '.': 1}}"
            ]
          },
          "metadata": {},
          "execution_count": 42
        }
      ]
    },
    {
      "cell_type": "code",
      "source": [
        "# tf 계산 및 행렬 생성\n",
        "tf_matrix = _create_tf_matrix(freq_matrix)\n",
        "tf_matrix"
      ],
      "metadata": {
        "colab": {
          "base_uri": "https://localhost:8080/"
        },
        "id": "X6lhJaHy67id",
        "outputId": "712568aa-033f-43a2-f7d8-36665595cb15"
      },
      "execution_count": 47,
      "outputs": [
        {
          "output_type": "execute_result",
          "data": {
            "text/plain": [
              "{'I know one thin': {'know': 0.06666666666666667,\n",
              "  'one': 0.06666666666666667,\n",
              "  'thing': 0.06666666666666667,\n",
              "  'certain': 0.06666666666666667,\n",
              "  ':': 0.06666666666666667,\n",
              "  \"n't\": 0.06666666666666667,\n",
              "  'settl': 0.06666666666666667,\n",
              "  'less': 0.06666666666666667,\n",
              "  \"'re\": 0.06666666666666667,\n",
              "  'capabl': 0.06666666666666667,\n",
              "  ',': 0.06666666666666667,\n",
              "  'strive': 0.06666666666666667,\n",
              "  'someth': 0.06666666666666667,\n",
              "  'bigger': 0.06666666666666667,\n",
              "  '.': 0.06666666666666667},\n",
              " 'Some of you rea': {'read': 0.1,\n",
              "  'thi': 0.2,\n",
              "  'might': 0.1,\n",
              "  'identifi': 0.1,\n",
              "  'messag': 0.1,\n",
              "  'becaus': 0.1,\n",
              "  'reson': 0.1,\n",
              "  'deeper': 0.1,\n",
              "  'level': 0.1,\n",
              "  '.': 0.1},\n",
              " 'For others, at ': {',': 0.1,\n",
              "  'end': 0.1,\n",
              "  'tether': 0.1,\n",
              "  'messag': 0.1,\n",
              "  'might': 0.1,\n",
              "  'noth': 0.1,\n",
              "  'trivial': 0.1,\n",
              "  'pep': 0.1,\n",
              "  'talk': 0.1,\n",
              "  '.': 0.1},\n",
              " 'What I wish to ': {'wish': 0.1111111111111111,\n",
              "  'convey': 0.1111111111111111,\n",
              "  'irrespect': 0.1111111111111111,\n",
              "  'journey': 0.1111111111111111,\n",
              "  ':': 0.1111111111111111,\n",
              "  'never': 0.1111111111111111,\n",
              "  'settl': 0.1111111111111111,\n",
              "  'less': 0.1111111111111111,\n",
              "  '.': 0.1111111111111111},\n",
              " 'If you settle f': {'settl': 0.125,\n",
              "  'less': 0.25,\n",
              "  ',': 0.125,\n",
              "  'receiv': 0.25,\n",
              "  'deserv': 0.125,\n",
              "  'convinc': 0.125,\n",
              "  'justifi': 0.125,\n",
              "  '.': 0.125},\n",
              " 'If you have not': {'achiev': 0.1,\n",
              "  'success': 0.1,\n",
              "  'deserv': 0.1,\n",
              "  'consid': 0.1,\n",
              "  'give': 0.1,\n",
              "  ',': 0.1,\n",
              "  'regret': 0.1,\n",
              "  'year': 0.1,\n",
              "  'decad': 0.1,\n",
              "  '?': 0.1},\n",
              " 'Only you can an': {'onli': 0.1,\n",
              "  'answer': 0.1,\n",
              "  ',': 0.1,\n",
              "  'carv': 0.1,\n",
              "  'time': 0.1,\n",
              "  'discov': 0.1,\n",
              "  'motiv': 0.1,\n",
              "  'pursu': 0.1,\n",
              "  'goal': 0.1,\n",
              "  '.': 0.1},\n",
              " 'It’s a fact, if': {'’': 0.16666666666666666,\n",
              "  'fact': 0.03333333333333333,\n",
              "  ',': 0.1,\n",
              "  'know': 0.06666666666666667,\n",
              "  'want': 0.1,\n",
              "  'get': 0.06666666666666667,\n",
              "  'life': 0.06666666666666667,\n",
              "  'hand': 0.06666666666666667,\n",
              "  'may': 0.03333333333333333,\n",
              "  'best': 0.03333333333333333,\n",
              "  'interest': 0.03333333333333333,\n",
              "  'affirm': 0.03333333333333333,\n",
              "  'author': 0.03333333333333333,\n",
              "  'larri': 0.03333333333333333,\n",
              "  'weidel': 0.03333333333333333,\n",
              "  ':': 0.03333333333333333,\n",
              "  '“': 0.03333333333333333,\n",
              "  'winner': 0.03333333333333333,\n",
              "  'figur': 0.03333333333333333,\n",
              "  'whatev': 0.03333333333333333,\n",
              "  'you.': 0.03333333333333333,\n",
              "  '”': 0.03333333333333333,\n",
              "  'key': 0.03333333333333333,\n",
              "  'develop': 0.03333333333333333,\n",
              "  'power': 0.03333333333333333,\n",
              "  'vision': 0.03333333333333333,\n",
              "  'hold': 0.03333333333333333,\n",
              "  'imag': 0.03333333333333333,\n",
              "  'mind': 0.03333333333333333,\n",
              "  '.': 0.03333333333333333},\n",
              " 'Nurture it dail': {'nurtur': 0.1111111111111111,\n",
              "  'daili': 0.1111111111111111,\n",
              "  'give': 0.1111111111111111,\n",
              "  'life': 0.1111111111111111,\n",
              "  'take': 0.1111111111111111,\n",
              "  'purpos': 0.1111111111111111,\n",
              "  'action': 0.1111111111111111,\n",
              "  'toward': 0.1111111111111111,\n",
              "  '.': 0.1111111111111111}}"
            ]
          },
          "metadata": {},
          "execution_count": 47
        }
      ]
    },
    {
      "cell_type": "code",
      "source": [
        "# 각 단어가 얼마나 많은 문서에 등장했는지 파악하기 위해 행렬 생성\n",
        "word_per_doc_table = _create_documents_per_words(freq_matrix)\n",
        "word_per_doc_table"
      ],
      "metadata": {
        "colab": {
          "base_uri": "https://localhost:8080/"
        },
        "id": "enrH5E8Q9j1T",
        "outputId": "d370034a-93a4-4c08-89d2-fea47474efc3"
      },
      "execution_count": 48,
      "outputs": [
        {
          "output_type": "execute_result",
          "data": {
            "text/plain": [
              "{'know': 2,\n",
              " 'one': 1,\n",
              " 'thing': 1,\n",
              " 'certain': 1,\n",
              " ':': 3,\n",
              " \"n't\": 1,\n",
              " 'settl': 3,\n",
              " 'less': 3,\n",
              " \"'re\": 1,\n",
              " 'capabl': 1,\n",
              " ',': 6,\n",
              " 'strive': 1,\n",
              " 'someth': 1,\n",
              " 'bigger': 1,\n",
              " '.': 8,\n",
              " 'read': 1,\n",
              " 'thi': 1,\n",
              " 'might': 2,\n",
              " 'identifi': 1,\n",
              " 'messag': 2,\n",
              " 'becaus': 1,\n",
              " 'reson': 1,\n",
              " 'deeper': 1,\n",
              " 'level': 1,\n",
              " 'end': 1,\n",
              " 'tether': 1,\n",
              " 'noth': 1,\n",
              " 'trivial': 1,\n",
              " 'pep': 1,\n",
              " 'talk': 1,\n",
              " 'wish': 1,\n",
              " 'convey': 1,\n",
              " 'irrespect': 1,\n",
              " 'journey': 1,\n",
              " 'never': 1,\n",
              " 'receiv': 1,\n",
              " 'deserv': 2,\n",
              " 'convinc': 1,\n",
              " 'justifi': 1,\n",
              " 'achiev': 1,\n",
              " 'success': 1,\n",
              " 'consid': 1,\n",
              " 'give': 2,\n",
              " 'regret': 1,\n",
              " 'year': 1,\n",
              " 'decad': 1,\n",
              " '?': 1,\n",
              " 'onli': 1,\n",
              " 'answer': 1,\n",
              " 'carv': 1,\n",
              " 'time': 1,\n",
              " 'discov': 1,\n",
              " 'motiv': 1,\n",
              " 'pursu': 1,\n",
              " 'goal': 1,\n",
              " '’': 1,\n",
              " 'fact': 1,\n",
              " 'want': 1,\n",
              " 'get': 1,\n",
              " 'life': 2,\n",
              " 'hand': 1,\n",
              " 'may': 1,\n",
              " 'best': 1,\n",
              " 'interest': 1,\n",
              " 'affirm': 1,\n",
              " 'author': 1,\n",
              " 'larri': 1,\n",
              " 'weidel': 1,\n",
              " '“': 1,\n",
              " 'winner': 1,\n",
              " 'figur': 1,\n",
              " 'whatev': 1,\n",
              " 'you.': 1,\n",
              " '”': 1,\n",
              " 'key': 1,\n",
              " 'develop': 1,\n",
              " 'power': 1,\n",
              " 'vision': 1,\n",
              " 'hold': 1,\n",
              " 'imag': 1,\n",
              " 'mind': 1,\n",
              " 'nurtur': 1,\n",
              " 'daili': 1,\n",
              " 'take': 1,\n",
              " 'purpos': 1,\n",
              " 'action': 1,\n",
              " 'toward': 1}"
            ]
          },
          "metadata": {},
          "execution_count": 48
        }
      ]
    },
    {
      "cell_type": "code",
      "source": [
        "# idf 계산 및 행렬 생성\n",
        "idf_matrix = _create_idf_matrix(freq_matrix, word_per_doc_table, total_documents)\n",
        "idf_matrix"
      ],
      "metadata": {
        "colab": {
          "base_uri": "https://localhost:8080/"
        },
        "id": "Vc28VJ8P9nMI",
        "outputId": "22ed5a89-42d3-44b4-a117-adf519fec0d4"
      },
      "execution_count": 49,
      "outputs": [
        {
          "output_type": "execute_result",
          "data": {
            "text/plain": [
              "{'I know one thin': {'know': 0.6532125137753437,\n",
              "  'one': 0.9542425094393249,\n",
              "  'thing': 0.9542425094393249,\n",
              "  'certain': 0.9542425094393249,\n",
              "  ':': 0.47712125471966244,\n",
              "  \"n't\": 0.9542425094393249,\n",
              "  'settl': 0.47712125471966244,\n",
              "  'less': 0.47712125471966244,\n",
              "  \"'re\": 0.9542425094393249,\n",
              "  'capabl': 0.9542425094393249,\n",
              "  ',': 0.17609125905568124,\n",
              "  'strive': 0.9542425094393249,\n",
              "  'someth': 0.9542425094393249,\n",
              "  'bigger': 0.9542425094393249,\n",
              "  '.': 0.05115252244738129},\n",
              " 'Some of you rea': {'read': 0.9542425094393249,\n",
              "  'thi': 0.9542425094393249,\n",
              "  'might': 0.6532125137753437,\n",
              "  'identifi': 0.9542425094393249,\n",
              "  'messag': 0.6532125137753437,\n",
              "  'becaus': 0.9542425094393249,\n",
              "  'reson': 0.9542425094393249,\n",
              "  'deeper': 0.9542425094393249,\n",
              "  'level': 0.9542425094393249,\n",
              "  '.': 0.05115252244738129},\n",
              " 'For others, at ': {',': 0.17609125905568124,\n",
              "  'end': 0.9542425094393249,\n",
              "  'tether': 0.9542425094393249,\n",
              "  'messag': 0.6532125137753437,\n",
              "  'might': 0.6532125137753437,\n",
              "  'noth': 0.9542425094393249,\n",
              "  'trivial': 0.9542425094393249,\n",
              "  'pep': 0.9542425094393249,\n",
              "  'talk': 0.9542425094393249,\n",
              "  '.': 0.05115252244738129},\n",
              " 'What I wish to ': {'wish': 0.9542425094393249,\n",
              "  'convey': 0.9542425094393249,\n",
              "  'irrespect': 0.9542425094393249,\n",
              "  'journey': 0.9542425094393249,\n",
              "  ':': 0.47712125471966244,\n",
              "  'never': 0.9542425094393249,\n",
              "  'settl': 0.47712125471966244,\n",
              "  'less': 0.47712125471966244,\n",
              "  '.': 0.05115252244738129},\n",
              " 'If you settle f': {'settl': 0.47712125471966244,\n",
              "  'less': 0.47712125471966244,\n",
              "  ',': 0.17609125905568124,\n",
              "  'receiv': 0.9542425094393249,\n",
              "  'deserv': 0.6532125137753437,\n",
              "  'convinc': 0.9542425094393249,\n",
              "  'justifi': 0.9542425094393249,\n",
              "  '.': 0.05115252244738129},\n",
              " 'If you have not': {'achiev': 0.9542425094393249,\n",
              "  'success': 0.9542425094393249,\n",
              "  'deserv': 0.6532125137753437,\n",
              "  'consid': 0.9542425094393249,\n",
              "  'give': 0.6532125137753437,\n",
              "  ',': 0.17609125905568124,\n",
              "  'regret': 0.9542425094393249,\n",
              "  'year': 0.9542425094393249,\n",
              "  'decad': 0.9542425094393249,\n",
              "  '?': 0.9542425094393249},\n",
              " 'Only you can an': {'onli': 0.9542425094393249,\n",
              "  'answer': 0.9542425094393249,\n",
              "  ',': 0.17609125905568124,\n",
              "  'carv': 0.9542425094393249,\n",
              "  'time': 0.9542425094393249,\n",
              "  'discov': 0.9542425094393249,\n",
              "  'motiv': 0.9542425094393249,\n",
              "  'pursu': 0.9542425094393249,\n",
              "  'goal': 0.9542425094393249,\n",
              "  '.': 0.05115252244738129},\n",
              " 'It’s a fact, if': {'’': 0.9542425094393249,\n",
              "  'fact': 0.9542425094393249,\n",
              "  ',': 0.17609125905568124,\n",
              "  'know': 0.6532125137753437,\n",
              "  'want': 0.9542425094393249,\n",
              "  'get': 0.9542425094393249,\n",
              "  'life': 0.6532125137753437,\n",
              "  'hand': 0.9542425094393249,\n",
              "  'may': 0.9542425094393249,\n",
              "  'best': 0.9542425094393249,\n",
              "  'interest': 0.9542425094393249,\n",
              "  'affirm': 0.9542425094393249,\n",
              "  'author': 0.9542425094393249,\n",
              "  'larri': 0.9542425094393249,\n",
              "  'weidel': 0.9542425094393249,\n",
              "  ':': 0.47712125471966244,\n",
              "  '“': 0.9542425094393249,\n",
              "  'winner': 0.9542425094393249,\n",
              "  'figur': 0.9542425094393249,\n",
              "  'whatev': 0.9542425094393249,\n",
              "  'you.': 0.9542425094393249,\n",
              "  '”': 0.9542425094393249,\n",
              "  'key': 0.9542425094393249,\n",
              "  'develop': 0.9542425094393249,\n",
              "  'power': 0.9542425094393249,\n",
              "  'vision': 0.9542425094393249,\n",
              "  'hold': 0.9542425094393249,\n",
              "  'imag': 0.9542425094393249,\n",
              "  'mind': 0.9542425094393249,\n",
              "  '.': 0.05115252244738129},\n",
              " 'Nurture it dail': {'nurtur': 0.9542425094393249,\n",
              "  'daili': 0.9542425094393249,\n",
              "  'give': 0.6532125137753437,\n",
              "  'life': 0.6532125137753437,\n",
              "  'take': 0.9542425094393249,\n",
              "  'purpos': 0.9542425094393249,\n",
              "  'action': 0.9542425094393249,\n",
              "  'toward': 0.9542425094393249,\n",
              "  '.': 0.05115252244738129}}"
            ]
          },
          "metadata": {},
          "execution_count": 49
        }
      ]
    },
    {
      "cell_type": "code",
      "source": [
        "# tf-idf 계산 및 행렬 생성\n",
        "tf_idf_matrix = _create_tf_idf_matrix(tf_matrix, idf_matrix)\n",
        "tf_idf_matrix"
      ],
      "metadata": {
        "colab": {
          "base_uri": "https://localhost:8080/"
        },
        "id": "p74zKUpP9r8m",
        "outputId": "ff3aaa0f-87cb-495a-88cc-7e25fb483fc7"
      },
      "execution_count": 50,
      "outputs": [
        {
          "output_type": "execute_result",
          "data": {
            "text/plain": [
              "{'I know one thin': {'know': 0.04354750091835625,\n",
              "  'one': 0.06361616729595498,\n",
              "  'thing': 0.06361616729595498,\n",
              "  'certain': 0.06361616729595498,\n",
              "  ':': 0.03180808364797749,\n",
              "  \"n't\": 0.06361616729595498,\n",
              "  'settl': 0.03180808364797749,\n",
              "  'less': 0.03180808364797749,\n",
              "  \"'re\": 0.06361616729595498,\n",
              "  'capabl': 0.06361616729595498,\n",
              "  ',': 0.01173941727037875,\n",
              "  'strive': 0.06361616729595498,\n",
              "  'someth': 0.06361616729595498,\n",
              "  'bigger': 0.06361616729595498,\n",
              "  '.': 0.0034101681631587524},\n",
              " 'Some of you rea': {'read': 0.09542425094393249,\n",
              "  'thi': 0.19084850188786498,\n",
              "  'might': 0.06532125137753438,\n",
              "  'identifi': 0.09542425094393249,\n",
              "  'messag': 0.06532125137753438,\n",
              "  'becaus': 0.09542425094393249,\n",
              "  'reson': 0.09542425094393249,\n",
              "  'deeper': 0.09542425094393249,\n",
              "  'level': 0.09542425094393249,\n",
              "  '.': 0.00511525224473813},\n",
              " 'For others, at ': {',': 0.017609125905568124,\n",
              "  'end': 0.09542425094393249,\n",
              "  'tether': 0.09542425094393249,\n",
              "  'messag': 0.06532125137753438,\n",
              "  'might': 0.06532125137753438,\n",
              "  'noth': 0.09542425094393249,\n",
              "  'trivial': 0.09542425094393249,\n",
              "  'pep': 0.09542425094393249,\n",
              "  'talk': 0.09542425094393249,\n",
              "  '.': 0.00511525224473813},\n",
              " 'What I wish to ': {'wish': 0.1060269454932583,\n",
              "  'convey': 0.1060269454932583,\n",
              "  'irrespect': 0.1060269454932583,\n",
              "  'journey': 0.1060269454932583,\n",
              "  ':': 0.05301347274662915,\n",
              "  'never': 0.1060269454932583,\n",
              "  'settl': 0.05301347274662915,\n",
              "  'less': 0.05301347274662915,\n",
              "  '.': 0.005683613605264587},\n",
              " 'If you settle f': {'settl': 0.059640156839957804,\n",
              "  'less': 0.11928031367991561,\n",
              "  ',': 0.022011407381960155,\n",
              "  'receiv': 0.23856062735983122,\n",
              "  'deserv': 0.08165156422191797,\n",
              "  'convinc': 0.11928031367991561,\n",
              "  'justifi': 0.11928031367991561,\n",
              "  '.': 0.006394065305922661},\n",
              " 'If you have not': {'achiev': 0.09542425094393249,\n",
              "  'success': 0.09542425094393249,\n",
              "  'deserv': 0.06532125137753438,\n",
              "  'consid': 0.09542425094393249,\n",
              "  'give': 0.06532125137753438,\n",
              "  ',': 0.017609125905568124,\n",
              "  'regret': 0.09542425094393249,\n",
              "  'year': 0.09542425094393249,\n",
              "  'decad': 0.09542425094393249,\n",
              "  '?': 0.09542425094393249},\n",
              " 'Only you can an': {'onli': 0.09542425094393249,\n",
              "  'answer': 0.09542425094393249,\n",
              "  ',': 0.017609125905568124,\n",
              "  'carv': 0.09542425094393249,\n",
              "  'time': 0.09542425094393249,\n",
              "  'discov': 0.09542425094393249,\n",
              "  'motiv': 0.09542425094393249,\n",
              "  'pursu': 0.09542425094393249,\n",
              "  'goal': 0.09542425094393249,\n",
              "  '.': 0.00511525224473813},\n",
              " 'It’s a fact, if': {'’': 0.15904041823988746,\n",
              "  'fact': 0.03180808364797749,\n",
              "  ',': 0.017609125905568124,\n",
              "  'know': 0.04354750091835625,\n",
              "  'want': 0.09542425094393249,\n",
              "  'get': 0.06361616729595498,\n",
              "  'life': 0.04354750091835625,\n",
              "  'hand': 0.06361616729595498,\n",
              "  'may': 0.03180808364797749,\n",
              "  'best': 0.03180808364797749,\n",
              "  'interest': 0.03180808364797749,\n",
              "  'affirm': 0.03180808364797749,\n",
              "  'author': 0.03180808364797749,\n",
              "  'larri': 0.03180808364797749,\n",
              "  'weidel': 0.03180808364797749,\n",
              "  ':': 0.015904041823988746,\n",
              "  '“': 0.03180808364797749,\n",
              "  'winner': 0.03180808364797749,\n",
              "  'figur': 0.03180808364797749,\n",
              "  'whatev': 0.03180808364797749,\n",
              "  'you.': 0.03180808364797749,\n",
              "  '”': 0.03180808364797749,\n",
              "  'key': 0.03180808364797749,\n",
              "  'develop': 0.03180808364797749,\n",
              "  'power': 0.03180808364797749,\n",
              "  'vision': 0.03180808364797749,\n",
              "  'hold': 0.03180808364797749,\n",
              "  'imag': 0.03180808364797749,\n",
              "  'mind': 0.03180808364797749,\n",
              "  '.': 0.0017050840815793762},\n",
              " 'Nurture it dail': {'nurtur': 0.1060269454932583,\n",
              "  'daili': 0.1060269454932583,\n",
              "  'give': 0.07257916819726042,\n",
              "  'life': 0.07257916819726042,\n",
              "  'take': 0.1060269454932583,\n",
              "  'purpos': 0.1060269454932583,\n",
              "  'action': 0.1060269454932583,\n",
              "  'toward': 0.1060269454932583,\n",
              "  '.': 0.005683613605264587}}"
            ]
          },
          "metadata": {},
          "execution_count": 50
        }
      ]
    },
    {
      "cell_type": "code",
      "source": [
        "sentence_scores = _score_sentences(tf_idf_matrix)\n",
        "sentence_scores"
      ],
      "metadata": {
        "colab": {
          "base_uri": "https://localhost:8080/"
        },
        "id": "nXUngvsQ9zF1",
        "outputId": "75fcb492-5284-4df7-d0b6-4698b299d8b6"
      },
      "execution_count": 51,
      "outputs": [
        {
          "output_type": "execute_result",
          "data": {
            "text/plain": [
              "{'I know one thin': 0.04844445619729474,\n",
              " 'Some of you rea': 0.08991517625512667,\n",
              " 'For others, at ': 0.07259123865689698,\n",
              " 'What I wish to ': 0.07720652881238262,\n",
              " 'If you settle f': 0.0957623452686671,\n",
              " 'If you have not': 0.08162213852681642,\n",
              " 'Only you can an': 0.0786118385701766,\n",
              " 'It’s a fact, if': 0.039066000467703525,\n",
              " 'Nurture it dail': 0.08744484699548169}"
            ]
          },
          "metadata": {},
          "execution_count": 51
        }
      ]
    },
    {
      "cell_type": "markdown",
      "source": [
        "1-2. scikit-Learn으로 TF-IDF 구현"
      ],
      "metadata": {
        "id": "bHc212ym-BmN"
      }
    },
    {
      "cell_type": "code",
      "source": [
        "from sklearn.feature_extraction.text import TfidfVectorizer"
      ],
      "metadata": {
        "id": "68kmeOmjnBkr"
      },
      "execution_count": 61,
      "outputs": []
    },
    {
      "cell_type": "code",
      "source": [
        "docA = \"The car is drvien on the road\"\n",
        "docB = \"The truck is driven on the highway\""
      ],
      "metadata": {
        "id": "CGEYxBQDn28i"
      },
      "execution_count": 62,
      "outputs": []
    },
    {
      "cell_type": "code",
      "source": [
        "tfidf = TfidfVectorizer(stop_words='english')"
      ],
      "metadata": {
        "id": "kTigDtngn87L"
      },
      "execution_count": 63,
      "outputs": []
    },
    {
      "cell_type": "code",
      "source": [
        "response = tfidf.fit_transform([docA, docB]) # 두 문서에 대해 tf-idf 계산"
      ],
      "metadata": {
        "id": "Qa33fNB9n-sa"
      },
      "execution_count": 64,
      "outputs": []
    },
    {
      "cell_type": "code",
      "source": [
        "feature_names = tfidf.get_feature_names_out() # tf-idf 계산에 사용된 단어 목록\n",
        "for col in response.nonzero()[1]:\n",
        "  print(f\"{feature_names[col]} - docA : {response[0, col]} - docB : {response[1, col]}\")"
      ],
      "metadata": {
        "colab": {
          "base_uri": "https://localhost:8080/"
        },
        "id": "xuW2wtEDoCL7",
        "outputId": "2bcffbb3-6cf0-485b-a587-2878e570278b"
      },
      "execution_count": 65,
      "outputs": [
        {
          "output_type": "stream",
          "name": "stdout",
          "text": [
            "car - docA : 0.5773502691896257 - docB : 0.0\n",
            "drvien - docA : 0.5773502691896257 - docB : 0.0\n",
            "road - docA : 0.5773502691896257 - docB : 0.0\n",
            "truck - docA : 0.0 - docB : 0.5773502691896257\n",
            "driven - docA : 0.0 - docB : 0.5773502691896257\n",
            "highway - docA : 0.0 - docB : 0.5773502691896257\n"
          ]
        }
      ]
    }
  ]
}